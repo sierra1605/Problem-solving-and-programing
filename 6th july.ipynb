{
 "cells": [
  {
   "cell_type": "code",
   "execution_count": 30,
   "metadata": {},
   "outputs": [
    {
     "name": "stdout",
     "output_type": "stream",
     "text": [
      "enter number 15\n",
      "enter number 26\n",
      "enter number 37\n",
      "7 is the large number\n"
     ]
    }
   ],
   "source": [
    "#greatest of three numbers\n",
    "a=int(input(\"enter number 1\"))\n",
    "b=int(input(\"enter number 2\"))\n",
    "c=int(input(\"enter number 3\"))\n",
    "if a>b and a>c:\n",
    "    print(a,\"is the large number\")\n",
    "elif b>c and b>a:\n",
    "    print(b,\"is the large number\")\n",
    "else:\n",
    "    print(c,\"is the large number\")\n"
   ]
  },
  {
   "cell_type": "code",
   "execution_count": 29,
   "metadata": {},
   "outputs": [
    {
     "name": "stdout",
     "output_type": "stream",
     "text": [
      "enter a year2004\n",
      "leap year\n"
     ]
    }
   ],
   "source": [
    "## check if a year is a leap year\n",
    "m=int(input(\"enter a year\"))\n",
    "if m%4==0:\n",
    "    print(\"leap year\")\n",
    "else:\n",
    "    print(\"not a leap year\")"
   ]
  },
  {
   "cell_type": "code",
   "execution_count": 28,
   "metadata": {},
   "outputs": [
    {
     "name": "stdout",
     "output_type": "stream",
     "text": [
      "enter a year2000\n",
      "leapyear\n"
     ]
    }
   ],
   "source": [
    "#leap year another method\n",
    "y=int(input(\"enter a year\"))\n",
    "if y%400==0 or (y%100!=0 and y%4==0):\n",
    "    print(\"leapyear\")\n",
    "else:\n",
    "    print(\"not a leap year\")\n"
   ]
  },
  {
   "cell_type": "markdown",
   "metadata": {},
   "source": [
    "## Iteration\n",
    "### for loop\n",
    "### while loop\n"
   ]
  },
  {
   "cell_type": "markdown",
   "metadata": {},
   "source": [
    "# while loop syntax\n",
    "### while Boolean_condition:\n",
    "###              statements\n",
    "###              Increment/Decrement"
   ]
  },
  {
   "cell_type": "code",
   "execution_count": 27,
   "metadata": {},
   "outputs": [
    {
     "name": "stdout",
     "output_type": "stream",
     "text": [
      "gitam\n",
      "gitam\n",
      "gitam\n",
      "gitam\n",
      "gitam\n"
     ]
    }
   ],
   "source": [
    "#print gitam for 5 times\n",
    "x=0\n",
    "while x<5:\n",
    "    print(\"gitam\")\n",
    "    x=x+1"
   ]
  },
  {
   "cell_type": "code",
   "execution_count": 26,
   "metadata": {},
   "outputs": [
    {
     "name": "stdout",
     "output_type": "stream",
     "text": [
      "enter thelast number10\n",
      "1 2 3 4 5 6 7 8 9 10 "
     ]
    }
   ],
   "source": [
    "#print N natural numbers using while loop\n",
    "x=0\n",
    "n=int(input(\"enter thelast number\"))\n",
    "while x<n:\n",
    "    x=x+1\n",
    "    print(x,end=\" \") #to print on the same line"
   ]
  },
  {
   "cell_type": "code",
   "execution_count": 25,
   "metadata": {},
   "outputs": [
    {
     "name": "stdout",
     "output_type": "stream",
     "text": [
      "enter n10\n",
      "30\n"
     ]
    }
   ],
   "source": [
    "#read the number and print only even numbers between 1 to n\n",
    "i=1\n",
    "n=int(input(\"enter n\"))\n",
    "sum=0\n",
    "while i<=n:\n",
    "    if(i%2==0):\n",
    "        sum=sum+i #inside if condition\n",
    "    i=i+1  #inside while loop and outside if condition\n",
    "print(sum)  #outside while loop\n",
    "       \n",
    "        \n"
   ]
  },
  {
   "cell_type": "code",
   "execution_count": 23,
   "metadata": {},
   "outputs": [
    {
     "name": "stdout",
     "output_type": "stream",
     "text": [
      "enter a number123\n",
      "3 2 1 "
     ]
    }
   ],
   "source": [
    "#To print digits of a number in reverse order\n",
    "n=int(input(\"enter a number\"))\n",
    "while n>0:\n",
    "    r=n%10\n",
    "    n=n//10\n",
    "    print(r,end=\" \")\n",
    "        \n"
   ]
  },
  {
   "cell_type": "markdown",
   "metadata": {},
   "source": [
    "# functional programming\n",
    "### simple\n",
    "### easy \n",
    "### lengthy program is divided into sub programs"
   ]
  },
  {
   "cell_type": "code",
   "execution_count": null,
   "metadata": {},
   "outputs": [],
   "source": [
    "def name of the function(<parameters>):\n",
    "    statement\n",
    "    return\n",
    "   "
   ]
  },
  {
   "cell_type": "code",
   "execution_count": 22,
   "metadata": {},
   "outputs": [
    {
     "name": "stdout",
     "output_type": "stream",
     "text": [
      "6\n"
     ]
    },
    {
     "data": {
      "text/plain": [
       "6"
      ]
     },
     "execution_count": 22,
     "metadata": {},
     "output_type": "execute_result"
    }
   ],
   "source": [
    "def addevendigits(n):\n",
    "    sum=0\n",
    "    while n!=0:\n",
    "        r=n%10\n",
    "        if r%2==0:\n",
    "            sum=sum+r\n",
    "        n=n//10\n",
    "    print(sum)\n",
    "    return sum\n",
    "addevendigits(1234)\n",
    "        \n",
    "    \n"
   ]
  },
  {
   "cell_type": "code",
   "execution_count": 21,
   "metadata": {},
   "outputs": [
    {
     "name": "stdout",
     "output_type": "stream",
     "text": [
      "9\n"
     ]
    }
   ],
   "source": [
    "#read a number and print the large digit from the number\n",
    "def largedigit(n):\n",
    "    max=0\n",
    "    while n!=0:\n",
    "        r=n%10\n",
    "        if (max<r):\n",
    "            max=r\n",
    "        n=n//10\n",
    "    print(max)\n",
    "    return\n",
    "largedigit(18923)\n",
    "        \n",
    "        \n",
    "        \n",
    "    \n",
    "    "
   ]
  },
  {
   "cell_type": "code",
   "execution_count": 2,
   "metadata": {},
   "outputs": [
    {
     "name": "stdout",
     "output_type": "stream",
     "text": [
      "enter number135\n",
      "531\n"
     ]
    }
   ],
   "source": [
    "#read a number as input and output as reverse of given nummber\n",
    "n=int(input(\"enter number\"))\n",
    "def revofno(n):\n",
    "    sum=0\n",
    "    while n!=0:\n",
    "        r=n%10\n",
    "        sum=sum*10+r\n",
    "        n=n//10\n",
    "    return sum\n",
    "print(revofno(n))\n"
   ]
  },
  {
   "cell_type": "code",
   "execution_count": 4,
   "metadata": {},
   "outputs": [
    {
     "name": "stdout",
     "output_type": "stream",
     "text": [
      "yes\n"
     ]
    }
   ],
   "source": [
    "def revofno(n):\n",
    "    a=n\n",
    "    rev=0\n",
    "    while n!=0:\n",
    "        r=n%10\n",
    "        rev=rev*10+r\n",
    "        n=n//10\n",
    "    if a==rev:\n",
    "        print(\"yes\")\n",
    "    else:\n",
    "        print(\"no\")\n",
    "    return\n",
    "revofno(151)\n",
    "        \n",
    "    \n",
    "    "
   ]
  },
  {
   "cell_type": "code",
   "execution_count": 5,
   "metadata": {},
   "outputs": [
    {
     "name": "stdout",
     "output_type": "stream",
     "text": [
      "11 12 13 14 15 16 17 18 19 20 21 22 23 24 25 "
     ]
    }
   ],
   "source": [
    "#To print numbers between the range \n",
    "def printseries(lb,ub):\n",
    "    for x in range(lb,ub+1):\n",
    "        print(x,end=\" \")\n",
    "    return\n",
    "printseries(11,25)    \n",
    "    "
   ]
  },
  {
   "cell_type": "code",
   "execution_count": 10,
   "metadata": {},
   "outputs": [
    {
     "name": "stdout",
     "output_type": "stream",
     "text": [
      "99 101 103 105 107 109 111 "
     ]
    }
   ],
   "source": [
    "#To print alternate numbers in a series\n",
    "def printseries(lb,ub):\n",
    "    for x in range(lb-1,ub+3,2):\n",
    "        print(x,end=\" \")\n",
    "    return\n",
    "printseries(100,110)\n",
    "    \n",
    "    "
   ]
  },
  {
   "cell_type": "code",
   "execution_count": 20,
   "metadata": {},
   "outputs": [
    {
     "name": "stdout",
     "output_type": "stream",
     "text": [
      "10 9 8 7 6 5 4 3 2 1 "
     ]
    }
   ],
   "source": [
    "#to print the series in reverse\n",
    "def revseries(start,end):\n",
    "    for x in range(end,start-1,-1):\n",
    "        print(x,end=\" \")\n",
    "    return\n",
    "revseries(1,10)\n"
   ]
  }
 ],
 "metadata": {
  "kernelspec": {
   "display_name": "Python 3",
   "language": "python",
   "name": "python3"
  },
  "language_info": {
   "codemirror_mode": {
    "name": "ipython",
    "version": 3
   },
   "file_extension": ".py",
   "mimetype": "text/x-python",
   "name": "python",
   "nbconvert_exporter": "python",
   "pygments_lexer": "ipython3",
   "version": "3.7.3"
  }
 },
 "nbformat": 4,
 "nbformat_minor": 2
}
