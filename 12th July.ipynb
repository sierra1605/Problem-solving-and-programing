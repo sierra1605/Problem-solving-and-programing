{
 "cells": [
  {
   "cell_type": "markdown",
   "metadata": {},
   "source": [
    "## Regular Expression\n",
    "- Pattern Matching\n",
    "- Patterns(re)Package\n",
    "- cap Symbol is used to represent the start of re\n",
    "- Dollor Symbol is used to represent the end of re\n",
    "- [0-9]-->Any Digit Mactching\n",
    "      > Two Digit Number (^[0-9]{2}$)\n",
    "- Two Digit Number (^[0-9]{2})"
   ]
  },
  {
   "cell_type": "markdown",
   "metadata": {},
   "source": [
    "### Regular Expression To Match the Indian Mobile Number \n",
    "- 10 Digits\n",
    "- (First digit will be [6-9]) and remaining 9 digits will be [0-9]"
   ]
  },
  {
   "cell_type": "code",
   "execution_count": 5,
   "metadata": {},
   "outputs": [
    {
     "name": "stdout",
     "output_type": "stream",
     "text": [
      "True\n",
      "False\n"
     ]
    }
   ],
   "source": [
    "# Function to test two digit number matching\n",
    "import re\n",
    "def twoDigitMatching(n):\n",
    "    pattern ='^[0-9]{2}$'\n",
    "    n= str(n)\n",
    "    if re.match(pattern,n):\n",
    "        return True\n",
    "    return False\n",
    "print(twoDigitMatching(12))# true\n",
    "print(twoDigitMatching(123))# false"
   ]
  },
  {
   "cell_type": "code",
   "execution_count": 7,
   "metadata": {},
   "outputs": [
    {
     "name": "stdout",
     "output_type": "stream",
     "text": [
      "True\n",
      "False\n"
     ]
    }
   ],
   "source": [
    "# Function to define to test username having 8 characters\n",
    "# upperr case and lower\n",
    "def testusername(s):\n",
    "    pattern = '^[a-zA-Z]{8}$'\n",
    "    if re.match(pattern,s):\n",
    "        return True\n",
    "    return False\n",
    "print(testusername('GitamHYD'))\n",
    "print(testusername('Gitam188'))"
   ]
  },
  {
   "cell_type": "code",
   "execution_count": 12,
   "metadata": {},
   "outputs": [
    {
     "data": {
      "text/plain": [
       "True"
      ]
     },
     "execution_count": 12,
     "metadata": {},
     "output_type": "execute_result"
    }
   ],
   "source": [
    "# Function to validate the indian Number\n",
    "def phonenumbervalidation(phone):\n",
    "    pattern= '^[6-9][0-9]{9}$|^[0][6-9][0-9]{9}$|^[+][9][1][6-9][0-9]{9}$'\n",
    "    phone= str(phone)\n",
    "    if re.match(pattern,phone):\n",
    "        return True\n",
    "    return False\n",
    "phonenumbervalidation('+919705790830')"
   ]
  },
  {
   "cell_type": "markdown",
   "metadata": {},
   "source": [
    "- Regular Expression To validate the roll number\n",
    "  - example : 1521A0501\n",
    "  - example : 1521A0509\n",
    "  - example : 1521A0499\n",
    "- Regular Expression to validate the password\n"
   ]
  },
  {
   "cell_type": "code",
   "execution_count": null,
   "metadata": {},
   "outputs": [],
   "source": [
    "#setheading(heading)\n",
    "#will change the current direction to the heading angle\n",
    "from turtle import*\n",
    "colors"
   ]
  }
 ],
 "metadata": {
  "kernelspec": {
   "display_name": "Python 3",
   "language": "python",
   "name": "python3"
  },
  "language_info": {
   "codemirror_mode": {
    "name": "ipython",
    "version": 3
   },
   "file_extension": ".py",
   "mimetype": "text/x-python",
   "name": "python",
   "nbconvert_exporter": "python",
   "pygments_lexer": "ipython3",
   "version": "3.7.3"
  }
 },
 "nbformat": 4,
 "nbformat_minor": 2
}
