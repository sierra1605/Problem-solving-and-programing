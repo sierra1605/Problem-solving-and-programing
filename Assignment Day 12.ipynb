{
 "cells": [
  {
   "cell_type": "code",
   "execution_count": 1,
   "metadata": {},
   "outputs": [],
   "source": [
    "# 1. Draw a circle, In that half circle has to have Green color \n",
    "# and another half required to fill with orange color using Turtle Package.\n",
    "import turtle as y\n",
    "a=y.Turtle()\n",
    "a.color(\"green\")\n",
    "a.begin_fill()\n",
    "a.circle(130,360)\n",
    "a.end_fill()\n",
    "a.hideturtle()\n",
    "a.color(\"orange\")\n",
    "a.begin_fill()\n",
    "a.circle(130,180)\n",
    "a.end_fill()\n",
    "a.hideturtle()"
   ]
  },
  {
   "cell_type": "code",
   "execution_count": null,
   "metadata": {},
   "outputs": [],
   "source": [
    "# 2. Draw a Spirling Square with Pen color as 'Red'.\n",
    "import turtle as y\n",
    "a=y.Turtle()\n",
    "a.pencolor('black')\n",
    "for i in range (100):\n",
    "    a.forward(i)\n",
    "    a.left(91)\n",
    "y.done()"
   ]
  },
  {
   "cell_type": "code",
   "execution_count": null,
   "metadata": {},
   "outputs": [],
   "source": [
    "# 3. Write a python programming to print the large digit from given number\n",
    "def Large(n):\n",
    "    large = 0\n",
    "    while n != 0:\n",
    "        r = n % 10\n",
    "        if large < r:\n",
    "            large = r\n",
    "        n = n // 10\n",
    "    return large\n",
    "n=int(input(\"enter a number\"))\n",
    "Large(n)"
   ]
  },
  {
   "cell_type": "code",
   "execution_count": null,
   "metadata": {},
   "outputs": [],
   "source": [
    "#4. Write a python programming to print the Palindrome count between two limits\n",
    "#Example:-\n",
    "#Test cases:- Input:- 1 10   Output:- 9\n",
    "#Test cases:- Input:- 11 100 Output:- 9 \n",
    "def palindrome(n):\n",
    "    s=0\n",
    "    k=n\n",
    "    while n!=0:\n",
    "        r=n%10\n",
    "        s=s*10+r\n",
    "        n=n//10\n",
    "    if k==s:\n",
    "        return True\n",
    "    else:\n",
    "        return False\n",
    "def Cnt(m,n):\n",
    "    c=0\n",
    "    for i in range(m,n):\n",
    "        if palindrome(i)==True:\n",
    "            c=c+1\n",
    "    return c\n",
    "m=int(input(\"enter m\"))\n",
    "n=int(input(\"enter n\"))\n",
    "Cnt(m,n)"
   ]
  },
  {
   "cell_type": "code",
   "execution_count": null,
   "metadata": {},
   "outputs": [],
   "source": [
    "#5. Write a python programming to create and find the word count from given input file\n",
    "# If the file is contains same word then you need to print the output count\n",
    "\n",
    "def createfile(filename):\n",
    "    f=open(filename,'w')\n",
    "    f.write(data)\n",
    "    print(\"File is created and data is written\\n To search a word\")\n",
    "    return\n",
    "filename=str(input(\"enter file name \"))\n",
    "data=str(input(\"enter data to store \"))\n",
    "createfile(filename)\n",
    "def wordcount(filename,word):\n",
    "    with open(filename,'r')as f:\n",
    "        if f.mode=='r':\n",
    "            x=f.read()\n",
    "            li=x.split() # It splits the string with white spaces\n",
    "    cnt=li.count(word)\n",
    "    return cnt\n",
    "m=str(input(\"enter file name \"))\n",
    "n=str(input(\"enter a word \"))\n",
    "wordcount(m,n)\n"
   ]
  },
  {
   "cell_type": "code",
   "execution_count": null,
   "metadata": {},
   "outputs": [],
   "source": []
  }
 ],
 "metadata": {
  "kernelspec": {
   "display_name": "Python 3",
   "language": "python",
   "name": "python3"
  }
 },
 "nbformat": 4,
 "nbformat_minor": 2
}
