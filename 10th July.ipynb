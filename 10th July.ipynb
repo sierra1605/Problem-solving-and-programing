{
 "cells": [
  {
   "cell_type": "markdown",
   "metadata": {},
   "source": [
    "### Tuples\n",
    "- t1 paranthesis() li square brackets[]\n",
    "- Difference between list and tuples\n",
    "        - list are mutalble - can be changed/ modified\n",
    "          . Used to access modify , add , delete data\n",
    "        - Tuples are immutable - cannot be changed\n",
    "           . Used to acess data only\n",
    "\n",
    "\n",
    "## Data Structures\n",
    "* Dictionaries\n",
    "\n",
    "# Dictionaries"
   ]
  },
  {
   "cell_type": "code",
   "execution_count": null,
   "metadata": {},
   "outputs": [],
   "source": []
  },
  {
   "cell_type": "code",
   "execution_count": 11,
   "metadata": {},
   "outputs": [
    {
     "data": {
      "text/plain": [
       "tuple"
      ]
     },
     "execution_count": 11,
     "metadata": {},
     "output_type": "execute_result"
    }
   ],
   "source": [
    "t1= (1,2,3,4,5,6) \n",
    "t1\n",
    "type(t1)"
   ]
  },
  {
   "cell_type": "code",
   "execution_count": 14,
   "metadata": {
    "scrolled": false
   },
   "outputs": [
    {
     "name": "stdout",
     "output_type": "stream",
     "text": [
      "{'Name': 'Gitam', 'EmailId': 'Gitam@gmail.com', 'Address': 'Hyderabad'}\n"
     ]
    }
   ],
   "source": [
    "d1={\"Name\":\"Gitam\",\"EmailId\":\"Gitam@gmail.com\",\"Address\":\"Hyderabad\"}\n",
    "print(d1)"
   ]
  },
  {
   "cell_type": "code",
   "execution_count": 15,
   "metadata": {
    "scrolled": true
   },
   "outputs": [
    {
     "data": {
      "text/plain": [
       "'Gitam'"
      ]
     },
     "execution_count": 15,
     "metadata": {},
     "output_type": "execute_result"
    }
   ],
   "source": [
    "d1['Name'] # To access specific key"
   ]
  },
  {
   "cell_type": "markdown",
   "metadata": {},
   "source": [
    "### Contact Application\n",
    "\n",
    "- Add contact\n",
    "- Search the contact\n",
    "- List all contacts\n",
    "       * Name1 : Phone1\n",
    "       * Name2 : Phone2\n",
    "- Modify the contact\n",
    "- Remove the contact\n",
    "- Import the contact"
   ]
  },
  {
   "cell_type": "code",
   "execution_count": 20,
   "metadata": {},
   "outputs": [
    {
     "name": "stdout",
     "output_type": "stream",
     "text": [
      "contact is details are added\n",
      "contactdetails are already exists\n"
     ]
    }
   ],
   "source": [
    "# Add contact\n",
    "contacts = {} # Creating a dict object\n",
    "def addcontact(name,phone):\n",
    "    if name not in contacts:\n",
    "        contacts[name] = phone\n",
    "        print(\"contact is details are added\")\n",
    "    else:\n",
    "        print(\"contactdetails are already exists\")\n",
    "    return\n",
    "addcontact('Sam','1234567890')\n",
    "addcontact('Sam','1234567890')\n"
   ]
  },
  {
   "cell_type": "code",
   "execution_count": 21,
   "metadata": {},
   "outputs": [
    {
     "name": "stdout",
     "output_type": "stream",
     "text": [
      "Sam : 1234567890\n",
      "sierra does not exists\n"
     ]
    }
   ],
   "source": [
    "# Search for contact Details\n",
    "def searchContact(name):\n",
    "    if name in contacts:\n",
    "        print(name,\":\", contacts[name])\n",
    "    else:\n",
    "        print(\"%s does not exists\"% name)\n",
    "    return\n",
    "searchContact('Sam')\n",
    "searchContact('sierra')"
   ]
  },
  {
   "cell_type": "code",
   "execution_count": 23,
   "metadata": {},
   "outputs": [
    {
     "name": "stdout",
     "output_type": "stream",
     "text": [
      "2 Contacts added successfully\n"
     ]
    }
   ],
   "source": [
    " # Import some contacts\n",
    "# Search for the existing contacts\n",
    "def importContact(newContacts):\n",
    "    contacts.update(newContacts)\n",
    "    print(len(newContacts.keys()),\"Contacts added successfully\")\n",
    "    return\n",
    "newContacts = {'Dinesh':9990807980980,'Ajay': 9798798798787}\n",
    "importContact(newContacts)"
   ]
  },
  {
   "cell_type": "code",
   "execution_count": 24,
   "metadata": {},
   "outputs": [],
   "source": [
    "# Delete a contact\n",
    "def deletecontact(name):\n",
    "    if name in contacts:\n",
    "        del contacts[name]\n",
    "    else:\n",
    "        print(name,\"not exists\")\n",
    "    return\n"
   ]
  },
  {
   "cell_type": "code",
   "execution_count": 25,
   "metadata": {},
   "outputs": [
    {
     "data": {
      "text/plain": [
       "{'Sam': '1234567890', 'Dinesh': 9990807980980, 'Ajay': 9798798798787}"
      ]
     },
     "execution_count": 25,
     "metadata": {},
     "output_type": "execute_result"
    }
   ],
   "source": [
    "contacts"
   ]
  },
  {
   "cell_type": "code",
   "execution_count": 27,
   "metadata": {},
   "outputs": [],
   "source": [
    "deletecontact('Ajay')"
   ]
  },
  {
   "cell_type": "code",
   "execution_count": 28,
   "metadata": {},
   "outputs": [
    {
     "data": {
      "text/plain": [
       "{'Sam': '1234567890', 'Dinesh': 9990807980980}"
      ]
     },
     "execution_count": 28,
     "metadata": {},
     "output_type": "execute_result"
    }
   ],
   "source": [
    "contacts"
   ]
  },
  {
   "cell_type": "code",
   "execution_count": 39,
   "metadata": {},
   "outputs": [
    {
     "name": "stdout",
     "output_type": "stream",
     "text": [
      "Dinesh UPdated successfully\n"
     ]
    }
   ],
   "source": [
    "# Update COntact Details\n",
    "def deletecontact(name,phone):\n",
    "    if name in contacts:\n",
    "        contacts[name]=phone\n",
    "        print(name,\"UPdated successfully\")\n",
    "    else:\n",
    "        print(name,\"not exists\")\n",
    "    return\n",
    "deletecontact('Dinesh',80000000000)"
   ]
  },
  {
   "cell_type": "code",
   "execution_count": 40,
   "metadata": {},
   "outputs": [
    {
     "data": {
      "text/plain": [
       "{'Sam': '1234567890', 'Dinesh': 80000000000}"
      ]
     },
     "execution_count": 40,
     "metadata": {},
     "output_type": "execute_result"
    }
   ],
   "source": [
    "contacts"
   ]
  },
  {
   "cell_type": "markdown",
   "metadata": {},
   "source": [
    "# String Functions\n",
    "* upper()-- Will converts the given string into upper case\n",
    "* lower()-- Will converts the given string into lower case"
   ]
  },
  {
   "cell_type": "code",
   "execution_count": 1,
   "metadata": {},
   "outputs": [
    {
     "name": "stdout",
     "output_type": "stream",
     "text": [
      "GITAM\n",
      "gitam\n"
     ]
    }
   ],
   "source": [
    "s1 = 'Gitam'\n",
    "print(s1.upper())\n",
    "print(s1.lower())\n"
   ]
  },
  {
   "cell_type": "markdown",
   "metadata": {},
   "source": [
    "# Boolean Function (True and False)\n",
    "* islower()--True if the string is lower case / False if the string not in lower case\n",
    "* isupper()--True if the string in upper case/ False if the string not in upper case\n",
    "- istitle() -- Returns true if the string follows title case / false (first letter of every word should upper case)\n",
    "- isalpha()-- Returns true if the string contains alphabets(only alphabets, without spaces)\n",
    "- isnumeric() -- True if the string contains only numbers\n",
    "-- isspace()-- true is string has only spaces\n"
   ]
  },
  {
   "cell_type": "code",
   "execution_count": 4,
   "metadata": {},
   "outputs": [
    {
     "name": "stdout",
     "output_type": "stream",
     "text": [
      "True\n",
      "False\n"
     ]
    }
   ],
   "source": [
    "s1 = 'gitam'\n",
    "print(s1.islower())\n",
    "print(s1.isupper())"
   ]
  },
  {
   "cell_type": "code",
   "execution_count": 5,
   "metadata": {},
   "outputs": [
    {
     "name": "stdout",
     "output_type": "stream",
     "text": [
      "True\n",
      "False\n"
     ]
    }
   ],
   "source": [
    "s2 = \"Python Programming\"\n",
    "s3 =\"python Programmin\"\n",
    "print(s2.istitle())\n",
    "print(s3.istitle())"
   ]
  },
  {
   "cell_type": "code",
   "execution_count": 8,
   "metadata": {},
   "outputs": [
    {
     "name": "stdout",
     "output_type": "stream",
     "text": [
      "False\n",
      "True\n"
     ]
    }
   ],
   "source": [
    "s2 = \"Application1889\"\n",
    "s3 = \"PythonProgramming\"\n",
    "print(s2.isalpha())\n",
    "print(s3.isalpha())"
   ]
  },
  {
   "cell_type": "code",
   "execution_count": 10,
   "metadata": {},
   "outputs": [
    {
     "name": "stdout",
     "output_type": "stream",
     "text": [
      "True\n",
      "False\n"
     ]
    }
   ],
   "source": [
    "s2 = \"199999\"\n",
    "s3 = \"PythonProgramming\"\n",
    "print(s2.isnumeric())\n",
    "print(s3.isnumeric())"
   ]
  },
  {
   "cell_type": "code",
   "execution_count": 11,
   "metadata": {},
   "outputs": [
    {
     "name": "stdout",
     "output_type": "stream",
     "text": [
      "True\n",
      "False\n"
     ]
    }
   ],
   "source": [
    "s2 = \" \"\n",
    "s3 = \"Pyt h on Pro gr a   mming\"\n",
    "print(s2.isspace())\n",
    "print(s3.isspace())"
   ]
  },
  {
   "cell_type": "markdown",
   "metadata": {},
   "source": [
    "# String Operators\n",
    "- join() -- Method will concatinates the two strings\n",
    "- split() -- split() returns the strings seperated by whitespace(no parameters are given)\n",
    "- replace() -- replaces the specfic word/character"
   ]
  },
  {
   "cell_type": "code",
   "execution_count": 12,
   "metadata": {},
   "outputs": [
    {
     "name": "stdout",
     "output_type": "stream",
     "text": [
      "['python', 'Programming', 'Easy', 'to', 'Learn']\n"
     ]
    }
   ],
   "source": [
    "s2 = \"python Programming Easy to Learn\"\n",
    "print(s2.split())"
   ]
  },
  {
   "cell_type": "code",
   "execution_count": 13,
   "metadata": {},
   "outputs": [
    {
     "name": "stdout",
     "output_type": "stream",
     "text": [
      "['Python', 'Programming', 'Easy', 'to', 'learn']\n",
      "5\n"
     ]
    }
   ],
   "source": [
    "s2= \"Python Programming Easy to learn\"\n",
    "li = s2.split() #Split the string --list the object\n",
    "print(li)\n",
    "print(len(li))"
   ]
  },
  {
   "cell_type": "code",
   "execution_count": 15,
   "metadata": {},
   "outputs": [
    {
     "name": "stdout",
     "output_type": "stream",
     "text": [
      "['P', 'y', 't', 'h', 'o', 'n', ' ', 'P', 'r', 'o', 'g', 'r', 'a', 'm', 'm', 'i', 'n', 'g', ' ', 'E', 'a', 's', 'y', ' ', 't', 'o', ' ', 'l', 'e', 'a', 'r', 'n']\n"
     ]
    }
   ],
   "source": [
    "s2 = \"Python Programming Easy to learn\"\n",
    "li = list(s2)\n",
    "print(li)"
   ]
  },
  {
   "cell_type": "code",
   "execution_count": 17,
   "metadata": {},
   "outputs": [
    {
     "name": "stdout",
     "output_type": "stream",
     "text": [
      "Python ProApplicationmming Easy to learn\n"
     ]
    }
   ],
   "source": [
    "s2 = \"Python Programming Easy to learn\"\n",
    "print(s2.replace(\"gra\",\"Application\"))"
   ]
  },
  {
   "cell_type": "code",
   "execution_count": null,
   "metadata": {},
   "outputs": [],
   "source": []
  }
 ],
 "metadata": {
  "kernelspec": {
   "display_name": "Python 3",
   "language": "python",
   "name": "python3"
  },
  "language_info": {
   "codemirror_mode": {
    "name": "ipython",
    "version": 3
   },
   "file_extension": ".py",
   "mimetype": "text/x-python",
   "name": "python",
   "nbconvert_exporter": "python",
   "pygments_lexer": "ipython3",
   "version": "3.7.3"
  }
 },
 "nbformat": 4,
 "nbformat_minor": 2
}
